{
 "cells": [
  {
   "cell_type": "markdown",
   "id": "7207c2c8-7279-4c89-9a5a-a091c024ecd8",
   "metadata": {},
   "source": [
    "## Install dependencies\n",
    "\n",
    "### Prerequisites\n",
    "\n",
    "You will need to install OpenCV. The easiest way to do this is from the Anaconda environment. The newest version might work, but 4.7.0 worked for this notebook. You will also need [tesserocr](https://pypi.org/project/tesserocr/) for doing optical character recognition (OCR). Version 2.5.2 was verified working for this notebook.\n",
    "\n",
    "```\n",
    "conda install -c conda-forge opencv=4.7.0 tesserocr=2.5.2\n",
    "```\n",
    "\n",
    "Finally, you will need to install PyTorch for Stable Baselines3 to work. It is highly recommended that you use the GPU-enabled version of PyTorch for faster training. Follow the directions here: https://pytorch.org/get-started/locally/. This notebook was tested with the following:\n",
    " * PyTorch v2.0.0\n",
    " * OS: Windows\n",
    " * Package: Conda\n",
    " * Language: Python\n",
    " * Compute platform: CUDA 11.7\n",
    "\n",
    "### Install packages\n",
    "\n",
    "Uncomment the following cells to install the required packages. Note the versions on some of them. Gymnasium and Stable-Baselines3 change constantly, so I tried to version-lock these packages, as these are known to work with this notebook. Starting with v2.0.0, Stable-Baselines3 will only support gymnasium (and drop gym support). See [here](https://github.com/DLR-RM/stable-baselines3/releases/tag/v1.8.0) for more information.\n",
    "\n",
    "### Play game\n",
    "\n",
    "Navigate to [this web version of FlappyBird](https://flappybird.io/) using Chrome. Make sure bookmark bar is disabled. Move the window to the top-left corner of the screen. Make sure zoom is set to 100%. Resize the width to the smallest possible. Resize the height so that the scroll bar just barely disappears. If any of the sizing in the tests below look incorrect, adjust `GAME_CROP` and `DONE_CROP`."
   ]
  },
  {
   "cell_type": "code",
   "execution_count": 38,
   "id": "426ed346-c519-4013-aa53-2ec27a557bbb",
   "metadata": {},
   "outputs": [],
   "source": [
    "# !python -m pip install mss pynput \n",
    "# !python -m pip install gymnasium==0.28.1\n",
    "# !python -m pip install stable-baselines3[extra]==2.0.0a1\n",
    "# !python -m pip install wandb"
   ]
  },
  {
   "cell_type": "code",
   "execution_count": 39,
   "id": "afa17999-ccc6-4d43-ae08-953e79b44de4",
   "metadata": {},
   "outputs": [],
   "source": [
    "# Screen capture\n",
    "from mss import mss\n",
    "\n",
    "# Keyboard and mouse control\n",
    "import pynput\n",
    "\n",
    "# Image manipulation\n",
    "import cv2\n",
    "\n",
    "# Optical character recognition (OCR)\n",
    "from PIL import Image\n",
    "import tesserocr\n",
    "\n",
    "# Environment wrapper\n",
    "import gymnasium as gym\n",
    "\n",
    "# Reinforcement learning framework\n",
    "from stable_baselines3.common import env_checker\n",
    "from stable_baselines3.common.callbacks import BaseCallback\n",
    "from stable_baselines3.common.logger import KVWriter, Logger\n",
    "from stable_baselines3 import PPO\n",
    "\n",
    "# Weights & Biases for remote logging\n",
    "import wandb\n",
    "\n",
    "# Other\n",
    "import time\n",
    "import datetime\n",
    "import os\n",
    "import numpy as np\n",
    "from matplotlib import pyplot as plt\n",
    "from typing import Any, Dict, Tuple, Union"
   ]
  },
  {
   "cell_type": "markdown",
   "id": "2e0fe495-576b-4382-b604-992051ebc038",
   "metadata": {},
   "source": [
    "## Test screen capture"
   ]
  },
  {
   "cell_type": "code",
   "execution_count": 40,
   "id": "85b1f3aa-561e-4f27-80d1-aa249981ccbe",
   "metadata": {},
   "outputs": [],
   "source": [
    "# Create screen capture object\n",
    "screen = mss()"
   ]
  },
  {
   "cell_type": "code",
   "execution_count": 97,
   "id": "d1a52684-aeeb-4fa1-a165-aaaf754d18a8",
   "metadata": {},
   "outputs": [],
   "source": [
    "# Game observation (minimum 36x36 for default CnnPolicy)\n",
    "GAME_CROP = {\n",
    "    'top':160, \n",
    "    'left':0, \n",
    "    'width':505, \n",
    "    'height':595\n",
    "}\n",
    "GAME_RESIZE_WIDTH = 50\n",
    "GAME_RESIZE_HEIGHT = 60\n",
    "GAME_FRAME_STACK_SIZE = 4\n",
    "OBS_DTYPE = np.uint8"
   ]
  },
  {
   "cell_type": "code",
   "execution_count": 100,
   "id": "af2b6903-40ce-4703-8bf4-683b7342f250",
   "metadata": {},
   "outputs": [],
   "source": [
    "def get_game_screen(screen):\n",
    "    \"\"\"Get screen grab, convert to grayscale, and resize\"\"\"\n",
    "\n",
    "    # Get screen grab and drop alpha channel\n",
    "    game_img = screen.grab(GAME_CROP)\n",
    "    game_img = np.array(game_img)[:, :, :3]\n",
    "\n",
    "    # Convert to grayscale and resize\n",
    "    game_img = cv2.cvtColor(game_img, cv2.COLOR_BGR2GRAY)\n",
    "    game_img = cv2.resize(game_img, (GAME_RESIZE_WIDTH, GAME_RESIZE_HEIGHT))\n",
    "    \n",
    "    return game_img"
   ]
  },
  {
   "cell_type": "code",
   "execution_count": 102,
   "id": "107ca942-b1e4-4131-b1ef-ff5f2117ca9b",
   "metadata": {},
   "outputs": [
    {
     "data": {
      "image/png": "[encoded data removed]",
      "text/plain": [
       "<Figure size 640x480 with 4 Axes>"
      ]
     },
     "metadata": {},
     "output_type": "display_data"
    }
   ],
   "source": [
    "# Capture a full stack of frames\n",
    "frame_stack = np.zeros((GAME_RESIZE_HEIGHT, GAME_RESIZE_WIDTH, GAME_FRAME_STACK_SIZE))\n",
    "for _ in range(GAME_FRAME_STACK_SIZE):\n",
    "\n",
    "    # Roll frame stack and add new frame to the end\n",
    "    img = get_game_screen(screen)\n",
    "    frame_stack = np.roll(frame_stack, -1, axis=-1)\n",
    "    frame_stack[:, :, -1] = img\n",
    "    \n",
    "    # Wait between frame captures\n",
    "    time.sleep(1.0)\n",
    "    \n",
    "# Show frames\n",
    "fig, axs = plt.subplots(1, GAME_FRAME_STACK_SIZE)\n",
    "for i in range(GAME_FRAME_STACK_SIZE):\n",
    "    axs[i].imshow(frame_stack[:, :, i], cmap='gray', vmin=0, vmax=255)"
   ]
  },
  {
   "cell_type": "code",
   "execution_count": 251,
   "id": "1d99719b-214e-4893-8ef8-87afff419d99",
   "metadata": {},
   "outputs": [
    {
     "name": "stdout",
     "output_type": "stream",
     "text": [
      "Shape: (60, 50, 4)\n",
      "Example row: [223 181 226 253  67 227 178 218 220 177 135  46 120 152  94  64  94 197\n",
      " 242 153 151  17  23 209 156   7  92 185 212 192 252  60 171 180  24 135\n",
      "  91 155  33 183  29 170 197  53 166 174 198  31 249 233]\n"
     ]
    }
   ],
   "source": [
    "# Gymnasium will require us to define the observation space\n",
    "observation_space = gym.spaces.Box(\n",
    "    low=0,\n",
    "    high=255,\n",
    "    shape=(GAME_RESIZE_HEIGHT, GAME_RESIZE_WIDTH, GAME_FRAME_STACK_SIZE),\n",
    "    dtype=OBS_DTYPE\n",
    ")\n",
    "\n",
    "# Randomly sample from it to show that it matches our expected input screen capture\n",
    "obs = observation_space.sample()\n",
    "print(f\"Shape: {obs.shape}\")\n",
    "print(f\"Example row: {obs[0, :, 0]}\")"
   ]
  },
  {
   "cell_type": "markdown",
   "id": "3e66865c-ed86-4d48-8381-2e9b84d2d246",
   "metadata": {},
   "source": [
    "## Test done screen OCR"
   ]
  },
  {
   "cell_type": "code",
   "execution_count": 221,
   "id": "54c2cba3-2091-489a-8e24-d66fc2a129ce",
   "metadata": {},
   "outputs": [],
   "source": [
    "# Game over screen settings\n",
    "DONE_CROP = {\n",
    "    'top':555, \n",
    "    'left':110, \n",
    "    'width':125, \n",
    "    'height':30}\n",
    "DONE_RESIZE_WIDTH = 100\n",
    "DONE_RESIZE_HEIGHT = 40\n",
    "GAME_OVER_STRINGS = [\"restart\"]"
   ]
  },
  {
   "cell_type": "code",
   "execution_count": 222,
   "id": "1b678a6f-8275-43b2-aeed-b0cb41e54a6b",
   "metadata": {},
   "outputs": [],
   "source": [
    "# Create OCR context\n",
    "ocr = tesserocr.PyTessBaseAPI()"
   ]
  },
  {
   "cell_type": "code",
   "execution_count": 223,
   "id": "8a979aa6-997c-43c5-ae1e-ca6624e63978",
   "metadata": {},
   "outputs": [],
   "source": [
    "def get_done_screen(sreen):\n",
    "    \"\"\"Capture part of game screen, extract string(s) with OCR\"\"\"\n",
    "    \n",
    "    # Get screen grab and drop alpha channel\n",
    "    img = screen.grab(DONE_CROP)\n",
    "    img = np.array(img)[:, :, :3]\n",
    "    img = cv2.cvtColor(img, cv2.COLOR_BGR2GRAY)\n",
    "    \n",
    "    return img"
   ]
  },
  {
   "cell_type": "code",
   "execution_count": 229,
   "id": "1440019b-5cd4-4d7b-aee0-959ccc7b3ca2",
   "metadata": {},
   "outputs": [
    {
     "name": "stdout",
     "output_type": "stream",
     "text": [
      "OCR: 0.02868 sec\n",
      "OCR string: RESTART\n",
      "Done: True\n"
     ]
    },
    {
     "data": {
      "text/plain": [
       "<matplotlib.image.AxesImage at 0x1eed47d74c0>"
      ]
     },
     "execution_count": 229,
     "metadata": {},
     "output_type": "execute_result"
    },
    {
     "data": {
      "image/png": "[encoded data removed]",
      "text/plain": [
       "<Figure size 640x480 with 1 Axes>"
      ]
     },
     "metadata": {},
     "output_type": "display_data"
    }
   ],
   "source": [
    "# Get done screen\n",
    "timestamp = time.time()\n",
    "img = get_done_screen(screen)\n",
    "\n",
    "# Use tesserocr to get text from image\n",
    "ocr_str = \"\"\n",
    "try:\n",
    "    pil_img = Image.fromarray(img)\n",
    "    ocr.SetImage(pil_img)\n",
    "    ocr_str = ocr.GetUTF8Text()\n",
    "except:\n",
    "    print(\"ERROR: Could not perform OCR\")\n",
    "\n",
    "# Check OCR results against known string(s)\n",
    "done = False\n",
    "ocr_str = ocr_str.strip()\n",
    "if ocr_str:\n",
    "    done_str = ocr_str.split()[0].lower()\n",
    "    if done_str in GAME_OVER_STRINGS:\n",
    "        done = True\n",
    "        \n",
    "# Display results\n",
    "print(f\"OCR: {(time.time() - timestamp):.5f} sec\")\n",
    "print(f\"OCR string: {ocr_str}\")\n",
    "print(f\"Done: {done}\")\n",
    "\n",
    "# Show image\n",
    "plt.imshow(img, cmap='gray', vmin=0, vmax=255)"
   ]
  },
  {
   "cell_type": "code",
   "execution_count": 230,
   "id": "b2551655-86d5-4c9c-b203-8a4c56d9fd83",
   "metadata": {},
   "outputs": [],
   "source": [
    "# End OCR context\n",
    "ocr.End()\n",
    "\n",
    "# End screen grab context\n",
    "screen.close()"
   ]
  },
  {
   "cell_type": "markdown",
   "id": "3bf44e0e-6fb4-48ca-9da7-05a0acd31b8e",
   "metadata": {},
   "source": [
    "## Test game control"
   ]
  },
  {
   "cell_type": "code",
   "execution_count": 338,
   "id": "31bdc236-934c-4de0-9553-8356b6a7ab9a",
   "metadata": {},
   "outputs": [],
   "source": [
    "# Game restart settings\n",
    "RESTART_MOUSE_POS = (200, 700)\n",
    "RESTART_PAUSE = 0.1\n",
    "ACTIONS_MAP = {\n",
    "    0: 'no-op',\n",
    "    1: 'space'\n",
    "}"
   ]
  },
  {
   "cell_type": "code",
   "execution_count": 339,
   "id": "79058f97-c629-4c19-9a4f-b6cb709a23eb",
   "metadata": {},
   "outputs": [
    {
     "name": "stdout",
     "output_type": "stream",
     "text": [
      "0: no-op\n"
     ]
    }
   ],
   "source": [
    "# Gymnasium will require us to define the action space\n",
    "action_space = gym.spaces.Discrete(len(ACTIONS_MAP))\n",
    "\n",
    "# Sample from it to show that we can randomly generate a number corresponding to an action\n",
    "action = action_space.sample()\n",
    "print(f\"{action}: {ACTIONS_MAP[action]}\")"
   ]
  },
  {
   "cell_type": "code",
   "execution_count": 340,
   "id": "d8b22725-2e90-4302-b138-cf03401134f1",
   "metadata": {},
   "outputs": [],
   "source": [
    "def restart_game(keyboard, mouse):\n",
    "    \"\"\"Simple routine to restart the game\"\"\"\n",
    "    \n",
    "    # Move mouse to game window and click to bring focus\n",
    "    mouse.position = RESTART_MOUSE_POS\n",
    "    mouse.press(pynput.mouse.Button.left)\n",
    "    mouse.release(pynput.mouse.Button.left)\n",
    "\n",
    "    # Press 'space' once to restart game\n",
    "    keyboard.press(pynput.keyboard.Key.space)\n",
    "    time.sleep(RESTART_PAUSE)\n",
    "    keyboard.release(pynput.keyboard.Key.space)\n",
    "    time.sleep(RESTART_PAUSE)\n",
    "    \n",
    "    # Press 'space' again to start the game\n",
    "    keyboard.press(pynput.keyboard.Key.space)\n",
    "    time.sleep(RESTART_PAUSE)\n",
    "    keyboard.release(pynput.keyboard.Key.space)\n",
    "    time.sleep(RESTART_PAUSE)"
   ]
  },
  {
   "cell_type": "code",
   "execution_count": 342,
   "id": "c2c98e07-b708-4b9a-9e48-56dfb5bec54c",
   "metadata": {},
   "outputs": [
    {
     "name": "stdout",
     "output_type": "stream",
     "text": [
      "1: space\n",
      "0: no-op\n",
      "1: space\n",
      "0: no-op\n",
      "1: space\n",
      "1: space\n",
      "0: no-op\n",
      "1: space\n",
      "1: space\n",
      "0: no-op\n"
     ]
    }
   ],
   "source": [
    "# Create interactions objects\n",
    "keyboard = pynput.keyboard.Controller()\n",
    "mouse = pynput.mouse.Controller()\n",
    "\n",
    "# Restart the game\n",
    "restart_game(keyboard, mouse)\n",
    "\n",
    "# Randomly control game\n",
    "for _ in range(10):\n",
    "    \n",
    "    # Release everything\n",
    "    keyboard.release(pynput.keyboard.Key.space)\n",
    "    \n",
    "    # Perform random action\n",
    "    action = action_space.sample()\n",
    "    if ACTIONS_MAP[action] == 'space':\n",
    "        keyboard.press(pynput.keyboard.Key.space)\n",
    "    print(f\"{action}: {ACTIONS_MAP[action]}\")\n",
    "    time.sleep(0.1)"
   ]
  },
  {
   "cell_type": "markdown",
   "id": "82a134aa-db50-42f5-92ce-9e9e9d2aac60",
   "metadata": {},
   "source": [
    "## Build gymnasium environment"
   ]
  },
  {
   "cell_type": "code",
   "execution_count": 343,
   "id": "47008188-6e6d-43d0-9f9f-a1a7b4a78392",
   "metadata": {},
   "outputs": [],
   "source": [
    "class WebGame(gym.Env):\n",
    "    \"\"\"\n",
    "    Subclass gymnasium Env class\n",
    "    \n",
    "    This is the gym wrapper class that allows our agent to interact with our environment. We must\n",
    "    implement four main methods: step(), reset(), render(), and close(). We should also define the\n",
    "    action_space and observation space as class members.\n",
    "    \n",
    "    More information: https://gymnasium.farama.org/api/env/\n",
    "    \"\"\"\n",
    "    \n",
    "    # Set up the environment, action, and observation shapes\n",
    "    def __init__(\n",
    "        self, \n",
    "        score_multiplier=1.0,\n",
    "        crash_reward=-100,\n",
    "        fps_limit=0.0,\n",
    "        display_scale=0.0\n",
    "    ):\n",
    "        \n",
    "        # Call superclass's constructor\n",
    "        super().__init__()\n",
    "        \n",
    "        # Assign attributes\n",
    "        self.score_multiplier = score_multiplier\n",
    "        self.crash_reward = crash_reward\n",
    "        self.fps_limit = fps_limit\n",
    "        self.display_scale = display_scale\n",
    "        \n",
    "        # Define the observation space\n",
    "        self.observation_space = gym.spaces.Box(\n",
    "            low=0,\n",
    "            high=255,\n",
    "            shape=(GAME_RESIZE_HEIGHT, GAME_RESIZE_WIDTH, GAME_FRAME_STACK_SIZE),\n",
    "            dtype=OBS_DTYPE\n",
    "        )\n",
    "        \n",
    "        # Define the action space\n",
    "        self.action_space = gym.spaces.Discrete(len(ACTIONS_MAP))\n",
    "        \n",
    "        # Screen capture object\n",
    "        self.screen = mss()\n",
    "        \n",
    "        # OCR context\n",
    "        self.ocr = tesserocr.PyTessBaseAPI()\n",
    "        \n",
    "        # Interaction objects\n",
    "        self.keyboard = pynput.keyboard.Controller()\n",
    "        self.mouse = pynput.mouse.Controller()\n",
    "        \n",
    "        # Keep track of FPS\n",
    "        self.fps = 0.0\n",
    "        self.timestamp = time.time()\n",
    "\n",
    "        # Initialize game frame stack\n",
    "        self.frame_stack = np.zeros(\n",
    "            (GAME_RESIZE_HEIGHT, GAME_RESIZE_WIDTH, GAME_FRAME_STACK_SIZE), \n",
    "            dtype=OBS_DTYPE\n",
    "        )\n",
    "        \n",
    "        # Show rendering in new window if requested\n",
    "        if self.display_scale > 0.0:\n",
    "            cv2.namedWindow('Game Image')\n",
    "        \n",
    "    \n",
    "    # What happens when you take a step in the game (e.g. each frame)\n",
    "    def step(self, action):\n",
    "        \n",
    "        # Perform action\n",
    "        if ACTIONS_MAP[action] == 'space':\n",
    "            self.keyboard.press(pynput.keyboard.Key.space)\n",
    "\n",
    "        # Get next observation, render, and add to frame stack\n",
    "        frame_stack = self.get_observation()\n",
    "        \n",
    "        # Check if done, penalize agent for crashing, reward for staying alive\n",
    "        terminated = self.get_done()\n",
    "        if terminated:\n",
    "            reward = self.crash_reward\n",
    "        else:\n",
    "            reward = self.score_multiplier\n",
    "                \n",
    "        # Calculate FPS and wait to meet FPS limit\n",
    "        now = time.time()\n",
    "        self.fps = 1 / (now - self.timestamp)\n",
    "        if self.fps_limit > 0:\n",
    "            to_wait = (1 / self.fps_limit) - (now - self.timestamp)\n",
    "            if to_wait > 0:\n",
    "                time.sleep(to_wait)\n",
    "        self.timestamp = now\n",
    "        \n",
    "        # Return auxiliary information for debugging\n",
    "        info = {'fps': self.fps}\n",
    "            \n",
    "        # Release all keys\n",
    "        self.keyboard.release(pynput.keyboard.Key.space)\n",
    "        \n",
    "        # We're not timing out (truncating) game play\n",
    "        truncated = False\n",
    "        \n",
    "        # Order of return values is important!\n",
    "        return frame_stack, reward, terminated, truncated, info\n",
    "    \n",
    "    # Capture screen, perform color conversion and resizing\n",
    "    def get_observation(self):\n",
    "        \n",
    "        # Roll frame stack and add new frame to the end\n",
    "        img = get_game_screen(screen)\n",
    "        self.frame_stack = np.roll(self.frame_stack, -1, axis=-1)\n",
    "        self.frame_stack[:, :, -1] = img\n",
    "        \n",
    "        # Render final frame in stack\n",
    "        self.render()\n",
    "        \n",
    "        return self.frame_stack\n",
    "    \n",
    "    # Visualize the game using OpenCV\n",
    "    def render(self):\n",
    "        \n",
    "        # Only render if our display scale is >0\n",
    "        if self.display_scale > 0:\n",
    "            \n",
    "            # Resize our game image to something that can be easily seen\n",
    "            disp_width = int(GAME_RESIZE_WIDTH * self.display_scale)\n",
    "            disp_height = int(GAME_RESIZE_HEIGHT * self.display_scale)\n",
    "            disp_img = cv2.resize(\n",
    "                self.frame_stack[:, :, -1],\n",
    "                (disp_width, disp_height),\n",
    "                interpolation=cv2.INTER_AREA\n",
    "            )\n",
    "            \n",
    "            # Add FPS counter to image\n",
    "            disp_img = cv2.putText(\n",
    "                disp_img, \n",
    "                f\"fps: {self.fps:.1f}\", \n",
    "                (10, 25), \n",
    "                cv2.FONT_HERSHEY_SIMPLEX, \n",
    "                1, \n",
    "                (255), \n",
    "                2, \n",
    "                cv2.LINE_AA\n",
    "            )\n",
    "                \n",
    "            # Draw and wait 1 ms to prevent window crashing\n",
    "            cv2.imshow('Game Image', disp_img)\n",
    "            cv2.waitKey(1)\n",
    "    \n",
    "    # Determine if the game is done using OCR\n",
    "    def get_done(self):\n",
    "        \n",
    "        # Capture screen\n",
    "        img = get_done_screen(self.screen)\n",
    "        \n",
    "        # Use tesserocr to get text from image\n",
    "        ocr_str = \"\"\n",
    "        try:\n",
    "            pil_img = Image.fromarray(img)\n",
    "            self.ocr.SetImage(pil_img)\n",
    "            ocr_str = self.ocr.GetUTF8Text()\n",
    "        except:\n",
    "            print(\"ERROR: Could not perform OCR\")\n",
    "\n",
    "        # Check OCR results against known string(s)\n",
    "        done = False\n",
    "        ocr_str = ocr_str.strip()\n",
    "        if ocr_str:\n",
    "            done_str = ocr_str.split()[0].lower()\n",
    "            if done_str in GAME_OVER_STRINGS:\n",
    "                done = True\n",
    "                \n",
    "        return done\n",
    "    \n",
    "    # Restart the game\n",
    "    def reset(self):\n",
    "        \n",
    "        # Perform restart routine\n",
    "        restart_game(self.keyboard, self.mouse)\n",
    "        \n",
    "        # Reinitialize frame stack and get first observation of new game\n",
    "        self.frame_stack[:, :, :] = 0\n",
    "        frame_stack = self.get_observation()\n",
    "        \n",
    "        # Reset FPS and timestamp\n",
    "        self.fps = 0.0\n",
    "        self.timestamp = time.time()\n",
    "        \n",
    "        # Return auxiliary information for debugging\n",
    "        info = {'fps': self.fps}\n",
    "        \n",
    "        # Order of return values is important!\n",
    "        return frame_stack, info\n",
    "    \n",
    "    # Close OpenCV windows, end MSS and OCR contexts\n",
    "    def close(self):\n",
    "        cv2.destroyAllWindows()\n",
    "        self.ocr.End()\n",
    "        self.screen.close()"
   ]
  },
  {
   "cell_type": "markdown",
   "id": "18feee80-1ada-4bcc-a4eb-e148e7345985",
   "metadata": {},
   "source": [
    "## Test gymnasium Environment"
   ]
  },
  {
   "cell_type": "code",
   "execution_count": 344,
   "id": "cdc11c27-070a-4b27-a3ed-55393102cef1",
   "metadata": {},
   "outputs": [],
   "source": [
    "# Create our environment\n",
    "try:\n",
    "    env.close()\n",
    "except NameError:\n",
    "    pass\n",
    "env = WebGame(\n",
    "    score_multiplier=0.1,\n",
    "    crash_reward=-100,\n",
    "    fps_limit=20.0,\n",
    "    display_scale=5.0\n",
    ")"
   ]
  },
  {
   "cell_type": "code",
   "execution_count": 345,
   "id": "0e9a5e88-87cb-4cba-a5fc-19a430987318",
   "metadata": {},
   "outputs": [
    {
     "name": "stdout",
     "output_type": "stream",
     "text": [
      "Done: True\n"
     ]
    }
   ],
   "source": [
    "# See if game is done\n",
    "print(f\"Done: {env.get_done()}\")"
   ]
  },
  {
   "cell_type": "code",
   "execution_count": 346,
   "id": "931b871e-8d3b-4673-8986-efa38185266e",
   "metadata": {},
   "outputs": [
    {
     "name": "stdout",
     "output_type": "stream",
     "text": [
      "Shape: (60, 50, 4)\n"
     ]
    },
    {
     "data": {
      "image/png": "[encoded data removed]",
      "text/plain": [
       "<Figure size 640x480 with 4 Axes>"
      ]
     },
     "metadata": {},
     "output_type": "display_data"
    }
   ],
   "source": [
    "# Capture a few frames\n",
    "for _ in range(GAME_FRAME_STACK_SIZE):\n",
    "    frame_stack = env.get_observation()\n",
    "    time.sleep(1.0)\n",
    "    \n",
    "# Show frames\n",
    "print(f\"Shape: {frame_stack.shape}\")\n",
    "fig, axs = plt.subplots(1, GAME_FRAME_STACK_SIZE)\n",
    "for i in range(GAME_FRAME_STACK_SIZE):\n",
    "    axs[i].imshow(frame_stack[:, :, i], cmap='gray', vmin=0, vmax=255)"
   ]
  },
  {
   "cell_type": "code",
   "execution_count": 347,
   "id": "098670f2-15b5-420a-916a-b9a0377b17e9",
   "metadata": {},
   "outputs": [
    {
     "name": "stdout",
     "output_type": "stream",
     "text": [
      "Total reward for episode 0 is -87.90\n",
      "Total reward for episode 1 is -88.00\n",
      "Total reward for episode 2 is -87.70\n"
     ]
    }
   ],
   "source": [
    "# Do a few game loops\n",
    "for ep in range(3):\n",
    "    \n",
    "    # Initialize game\n",
    "    obs, info = env.reset()\n",
    "    terminated = False\n",
    "    truncated = False\n",
    "    total_reward = 0\n",
    "    \n",
    "    # Do a single game loop\n",
    "    while not terminated and not truncated:\n",
    "        obs, reward, terminated, truncated, info = env.step(env.action_space.sample())\n",
    "        total_reward += reward\n",
    "        \n",
    "    # Show results\n",
    "    print(f\"Total reward for episode {ep} is {total_reward:.2f}\")"
   ]
  },
  {
   "cell_type": "code",
   "execution_count": 349,
   "id": "0d1ebdd4-3abc-413c-ad32-b20f57485b55",
   "metadata": {},
   "outputs": [],
   "source": [
    "# Final environment check to make sure it works with Stable Baselines3\n",
    "env_checker.check_env(env)"
   ]
  },
  {
   "cell_type": "markdown",
   "id": "397cc253-71f0-417e-a5aa-33809b7dcc2a",
   "metadata": {},
   "source": [
    "## Checkpoint callback"
   ]
  },
  {
   "cell_type": "code",
   "execution_count": 350,
   "id": "2dbfc06d-2882-445c-9bc7-0aa5073289af",
   "metadata": {},
   "outputs": [],
   "source": [
    "# Checkpoint config\n",
    "CHECKPOINT_DIR = \"checkpoints\"\n",
    "CHECKPOINT_FREQ = 35_000 # About 30 min at 20 fps"
   ]
  },
  {
   "cell_type": "code",
   "execution_count": 351,
   "id": "99f23edc-77ee-485e-b1a6-4c93fc0440a9",
   "metadata": {},
   "outputs": [],
   "source": [
    "class SaveCheckpointCallback(BaseCallback):\n",
    "    \"\"\"\n",
    "    Save the model every ``check_freq`` steps\n",
    "    \n",
    "    More information: https://stable-baselines3.readthedocs.io/en/master/guide/callbacks.html\n",
    "    \"\"\"\n",
    "    \n",
    "    # Constructor\n",
    "    def __init__(self, check_freq, save_dir, verbose=1):\n",
    "        super(SaveCheckpointCallback, self).__init__(verbose)\n",
    "        self.check_freq = check_freq\n",
    "        self.save_dir = save_dir\n",
    "        \n",
    "    # Create directory for saving the models\n",
    "    def _init_callback(self):\n",
    "        if self.save_dir is not None:\n",
    "            os.makedirs(self.save_dir, exist_ok=True)\n",
    "            \n",
    "    # Save model every check_freq steps\n",
    "    def _on_step(self):\n",
    "        if self.n_calls % self.check_freq == 0:\n",
    "            model_path = os.path.join(self.save_dir, f\"model_{self.n_calls}\")\n",
    "            self.model.save(model_path)\n",
    "        return True"
   ]
  },
  {
   "cell_type": "code",
   "execution_count": 352,
   "id": "3686d148-ca6d-4a8a-88f0-ab0397108f65",
   "metadata": {},
   "outputs": [],
   "source": [
    "# Set up checkpoint callback\n",
    "checkpoint_callback = SaveCheckpointCallback(\n",
    "    check_freq=CHECKPOINT_FREQ, \n",
    "    save_dir=CHECKPOINT_DIR,\n",
    "    verbose=1\n",
    ")"
   ]
  },
  {
   "cell_type": "markdown",
   "id": "2ccb1646-fd33-4350-a92e-e7111de8e2ee",
   "metadata": {},
   "source": [
    "## Custom Weights & Biases logger"
   ]
  },
  {
   "cell_type": "code",
   "execution_count": 364,
   "id": "0691076d-5418-4102-8a1c-e72cf2000d56",
   "metadata": {},
   "outputs": [],
   "source": [
    "# Weights & Biases project name\n",
    "WANDB_PROJECT = \"flappy-bird\""
   ]
  },
  {
   "cell_type": "code",
   "execution_count": 365,
   "id": "51be733b-73ae-4aea-8fb7-d0898ba17454",
   "metadata": {},
   "outputs": [],
   "source": [
    "class WandBWriter(KVWriter):\n",
    "    \"\"\"\n",
    "    Log metrics to Weights & Biases when called by .learn()\n",
    "    \n",
    "    More info: https://stable-baselines3.readthedocs.io/en/master/_modules/stable_baselines3/common/logger.html#KVWriter\n",
    "    \"\"\"\n",
    "    \n",
    "    # Initialize run\n",
    "    def __init__(self, run, verbose=1):\n",
    "        super().__init__()\n",
    "        self.run = run\n",
    "        self.verbose = verbose\n",
    "\n",
    "    # Write metrics to W&B project\n",
    "    def write(self, \n",
    "              key_values: Dict[str, Any], \n",
    "              key_excluded: Dict[str, Union[str, Tuple[str, ...]]], \n",
    "              step: int = 0) -> None:\n",
    "        log_dict = {}\n",
    "        \n",
    "        # Go through each key/value pairs\n",
    "        for (key, value), (_, excluded) in zip(\n",
    "            sorted(key_values.items()), sorted(key_excluded.items())):\n",
    "            \n",
    "            if self.verbose >= 2:\n",
    "                print(f\"step={step} | {key} : {value} ({type(value)})\")\n",
    "            \n",
    "            # Skip excluded items\n",
    "            if excluded is not None and \"wandb\" in excluded:\n",
    "                continue\n",
    "                \n",
    "            # Log integers and floats\n",
    "            if isinstance(value, np.ScalarType):\n",
    "                if not isinstance(value, str):\n",
    "                    wandb.log(data={key: value}, step=step)\n",
    "                    log_dict[key] = value\n",
    "                \n",
    "        # Print to console\n",
    "        if self.verbose >= 1:\n",
    "            print(f\"Log for steps={step}\")\n",
    "            print(f\"--------------\")\n",
    "            for (key, value) in sorted(log_dict.items()):\n",
    "                print(f\"  {key}: {value}\")\n",
    "            print()\n",
    "                \n",
    "    # Close the W&B run\n",
    "    def close(self) -> None:\n",
    "        self.run.finish()"
   ]
  },
  {
   "cell_type": "code",
   "execution_count": 366,
   "id": "572b1964-61d9-4b9c-9704-a17751fe48ca",
   "metadata": {},
   "outputs": [
    {
     "data": {
      "text/plain": [
       "True"
      ]
     },
     "execution_count": 366,
     "metadata": {},
     "output_type": "execute_result"
    }
   ],
   "source": [
    "# Log in to Weights & Biases\n",
    "wandb.login()"
   ]
  },
  {
   "cell_type": "code",
   "execution_count": 367,
   "id": "53d682d2-829a-4580-bdd9-6b28b91697ae",
   "metadata": {},
   "outputs": [
    {
     "data": {
      "text/html": [
       "wandb version 0.15.3 is available!  To upgrade, please run:\n",
       " $ pip install wandb --upgrade"
      ],
      "text/plain": [
       "<IPython.core.display.HTML object>"
      ]
     },
     "metadata": {},
     "output_type": "display_data"
    },
    {
     "data": {
      "text/html": [
       "Tracking run with wandb version 0.15.0"
      ],
      "text/plain": [
       "<IPython.core.display.HTML object>"
      ]
     },
     "metadata": {},
     "output_type": "display_data"
    },
    {
     "data": {
      "text/html": [
       "Run data is saved locally in <code>D:\\Projects\\Notebooks\\flappy\\wandb\\run-20230529_001219-izqb7hw2</code>"
      ],
      "text/plain": [
       "<IPython.core.display.HTML object>"
      ]
     },
     "metadata": {},
     "output_type": "display_data"
    },
    {
     "data": {
      "text/html": [
       "Syncing run <strong><a href='https://wandb.ai/shawnhymel/flappy-bird/runs/izqb7hw2' target=\"_blank\">2023-05-29 06:12:19</a></strong> to <a href='https://wandb.ai/shawnhymel/flappy-bird' target=\"_blank\">Weights & Biases</a> (<a href='https://wandb.me/run' target=\"_blank\">docs</a>)<br/>"
      ],
      "text/plain": [
       "<IPython.core.display.HTML object>"
      ]
     },
     "metadata": {},
     "output_type": "display_data"
    },
    {
     "data": {
      "text/html": [
       " View project at <a href='https://wandb.ai/shawnhymel/flappy-bird' target=\"_blank\">https://wandb.ai/shawnhymel/flappy-bird</a>"
      ],
      "text/plain": [
       "<IPython.core.display.HTML object>"
      ]
     },
     "metadata": {},
     "output_type": "display_data"
    },
    {
     "data": {
      "text/html": [
       " View run at <a href='https://wandb.ai/shawnhymel/flappy-bird/runs/izqb7hw2' target=\"_blank\">https://wandb.ai/shawnhymel/flappy-bird/runs/izqb7hw2</a>"
      ],
      "text/plain": [
       "<IPython.core.display.HTML object>"
      ]
     },
     "metadata": {},
     "output_type": "display_data"
    },
    {
     "name": "stdout",
     "output_type": "stream",
     "text": [
      "WandB run ID: izqb7hw2\n",
      "WandB run name: 2023-05-29 06:12:19\n"
     ]
    }
   ],
   "source": [
    "# Create new W&B run\n",
    "config = {}\n",
    "dt = datetime.datetime.now(datetime.timezone.utc)\n",
    "dt = dt.replace(microsecond=0, tzinfo=None)\n",
    "run = wandb.init(project=WANDB_PROJECT, name=str(dt), config=config)\n",
    "\n",
    "# Print run info\n",
    "print(f\"WandB run ID: {run.id}\")\n",
    "print(f\"WandB run name: {run.name}\") "
   ]
  },
  {
   "cell_type": "code",
   "execution_count": 368,
   "id": "f595934f-1953-4910-b11d-4233f5575f2f",
   "metadata": {},
   "outputs": [],
   "source": [
    "# Set custom logger with our custom writer\n",
    "wandb_writer = WandBWriter(run, verbose=0)\n",
    "loggers = Logger(\n",
    "    folder=None,\n",
    "    output_formats=[wandb_writer]\n",
    ")"
   ]
  },
  {
   "cell_type": "markdown",
   "id": "e8286e49-1787-4f69-a9ee-1fcb4c42633d",
   "metadata": {},
   "source": [
    "## Train model"
   ]
  },
  {
   "cell_type": "code",
   "execution_count": 370,
   "id": "36b80ab8-99a2-491c-9616-83bc87f0d5c4",
   "metadata": {},
   "outputs": [],
   "source": [
    "# Hyperparameters\n",
    "hparams = {\n",
    "    \"score_multiplier\": 0.1,            # Low score per step\n",
    "    \"crash_reward\": -100,               # Penalize crashing\n",
    "    \"fps_limit\": 20,                    # Is actually ??? on Windows\n",
    "    \"learning_rate\": 0.0003,            # Default is 0.0003\n",
    "    \"steps_per_update\": 64,             # Default is 2048\n",
    "    \"entropy_coefficient\": 0.0,         # Higher entropy encourages more exploration. Default is 0\n",
    "    \"total_timesteps\": 600_00,          # About 8.3 hours at 20 fps\n",
    "    \"num_actions\": len(ACTIONS_MAP),\n",
    "    \"model_name\": \"flappy-v01\",\n",
    "    \"notes\": \"First try\"\n",
    "}\n",
    "\n",
    "# Log hyperparameters to W&B\n",
    "wandb.config.update(hparams)"
   ]
  },
  {
   "cell_type": "code",
   "execution_count": 371,
   "id": "e6b57277-51c0-40be-ae30-725a0c7cd3d7",
   "metadata": {},
   "outputs": [],
   "source": [
    "# Create our environment with a timeout for training\n",
    "try:\n",
    "    env.close()\n",
    "except NameError:\n",
    "    pass\n",
    "env = WebGame(\n",
    "    score_multiplier=hparams[\"score_multiplier\"],\n",
    "    crash_reward=hparams[\"crash_reward\"],\n",
    "    fps_limit=hparams[\"fps_limit\"],\n",
    "    display_scale=5.0\n",
    ")"
   ]
  },
  {
   "cell_type": "code",
   "execution_count": 372,
   "id": "83693855-330d-4f19-a4ce-5ae8636775ff",
   "metadata": {},
   "outputs": [],
   "source": [
    "# Create model\n",
    "# More information: https://stable-baselines3.readthedocs.io/en/master/modules/ppo.html\n",
    "model = PPO('CnnPolicy', \n",
    "            env, \n",
    "            verbose=0,\n",
    "            learning_rate=hparams[\"learning_rate\"], \n",
    "            n_steps=hparams[\"steps_per_update\"],\n",
    "            ent_coef=hparams[\"entropy_coefficient\"])"
   ]
  },
  {
   "cell_type": "code",
   "execution_count": 373,
   "id": "7093cac1-f728-4105-93a3-e7d49bb6680a",
   "metadata": {},
   "outputs": [
    {
     "data": {
      "text/plain": [
       "<stable_baselines3.ppo.ppo.PPO at 0x1eedef4dd80>"
      ]
     },
     "execution_count": 373,
     "metadata": {},
     "output_type": "execute_result"
    }
   ],
   "source": [
    "# Choo choo train!\n",
    "model.set_logger(loggers)\n",
    "model.learn(total_timesteps=hparams[\"total_timesteps\"], \n",
    "            callback=[checkpoint_callback])"
   ]
  },
  {
   "cell_type": "code",
   "execution_count": 374,
   "id": "f61906bc-7c19-455f-adcc-bfd5811b6740",
   "metadata": {},
   "outputs": [
    {
     "data": {
      "text/html": [
       "Waiting for W&B process to finish... <strong style=\"color:green\">(success).</strong>"
      ],
      "text/plain": [
       "<IPython.core.display.HTML object>"
      ]
     },
     "metadata": {},
     "output_type": "display_data"
    },
    {
     "data": {
      "application/vnd.jupyter.widget-view+json": {
       "model_id": "cc7f88516d18442baade982dd7653289",
       "version_major": 2,
       "version_minor": 0
      },
      "text/plain": [
       "VBox(children=(Label(value='0.001 MB of 0.001 MB uploaded (0.000 MB deduped)\\r'), FloatProgress(value=1.0, max…"
      ]
     },
     "metadata": {},
     "output_type": "display_data"
    },
    {
     "data": {
      "text/html": [
       "<style>\n",
       "    table.wandb td:nth-child(1) { padding: 0 10px; text-align: left ; width: auto;} td:nth-child(2) {text-align: left ; width: 100%}\n",
       "    .wandb-row { display: flex; flex-direction: row; flex-wrap: wrap; justify-content: flex-start; width: 100% }\n",
       "    .wandb-col { display: flex; flex-direction: column; flex-basis: 100%; flex: 1; padding: 10px; }\n",
       "    </style>\n",
       "<div class=\"wandb-row\"><div class=\"wandb-col\"><h3>Run history:</h3><br/><table class=\"wandb\"><tr><td>rollout/ep_len_mean</td><td>█▂▁▁▁▁▁▁▁▁▁▁▁▁▁▁▁▁▁▁▁▁▁▁▁▁▁▁▁▁▁▁▁▁▁▁▁▁▁▁</td></tr><tr><td>rollout/ep_rew_mean</td><td>█▂▁▁▁▁▁▁▁▁▁▁▁▁▁▁▁▁▁▁▁▁▁▁▁▁▁▁▁▁▁▁▁▁▁▁▁▁▁▁</td></tr><tr><td>time/fps</td><td>█▅▃▃▃▃▃▃▃▃▃▁▁▁▁▁▁▁▁▁▁▁▁▁▁▁▁▁▁▁▁▁▁▁▁▁▁▁▁▁</td></tr><tr><td>time/iterations</td><td>▁▁▁▁▂▂▂▂▂▃▃▃▃▃▃▄▄▄▄▄▅▅▅▅▅▅▆▆▆▆▆▇▇▇▇▇▇███</td></tr><tr><td>time/time_elapsed</td><td>▁▁▁▁▂▂▂▂▂▃▃▃▃▃▃▄▄▄▄▄▅▅▅▅▅▅▆▆▆▆▆▇▇▇▇▇▇███</td></tr><tr><td>time/total_timesteps</td><td>▁▁▁▁▂▂▂▂▂▃▃▃▃▃▃▄▄▄▄▄▅▅▅▅▅▅▆▆▆▆▆▇▇▇▇▇▇███</td></tr><tr><td>train/approx_kl</td><td>█▁▁▁▁▁▁▁▁▁▁▁▁▁▁▁▁▁▁▁▁▁▁▁▁▁▁▁▁▁▁▁▁▁▁▁▁▁▁▁</td></tr><tr><td>train/clip_fraction</td><td>▁▁▁▁▁▁▁▁▁▁▁▁▁▁▁▁▁▁▁▁▁▁▁▁▁▁▁▁▁▁▁▁▁▁▁▁▁▁▁▁</td></tr><tr><td>train/clip_range</td><td>▁▁▁▁▁▁▁▁▁▁▁▁▁▁▁▁▁▁▁▁▁▁▁▁▁▁▁▁▁▁▁▁▁▁▁▁▁▁▁▁</td></tr><tr><td>train/entropy_loss</td><td>▁███████████████████████████████████████</td></tr><tr><td>train/explained_variance</td><td>▁▆▇▄▇▆▇█▇██████▅███▇█████████████▅██████</td></tr><tr><td>train/learning_rate</td><td>▁▁▁▁▁▁▁▁▁▁▁▁▁▁▁▁▁▁▁▁▁▁▁▁▁▁▁▁▁▁▁▁▁▁▁▁▁▁▁▁</td></tr><tr><td>train/loss</td><td>█▁▁▁▁▁▁▁▁▁▁▁▁▁▁▁▁▁▁▁▁▁▁▁▁▁▁▁▁▁▁▁▁▁▁▁▁▁▁▁</td></tr><tr><td>train/n_updates</td><td>▁▁▁▁▂▂▂▂▂▃▃▃▃▃▃▄▄▄▄▄▅▅▅▅▅▅▆▆▆▆▆▇▇▇▇▇▇███</td></tr><tr><td>train/policy_gradient_loss</td><td>▁███████████████████████████████████████</td></tr><tr><td>train/value_loss</td><td>█▁▁▁▁▁▁▁▁▁▁▁▁▁▁▁▁▁▁▁▁▁▁▁▁▁▁▁▁▁▁▁▁▁▁▁▁▁▁▁</td></tr></table><br/></div><div class=\"wandb-col\"><h3>Run summary:</h3><br/><table class=\"wandb\"><tr><td>rollout/ep_len_mean</td><td>20.09</td></tr><tr><td>rollout/ep_rew_mean</td><td>-98.091</td></tr><tr><td>time/fps</td><td>11</td></tr><tr><td>time/iterations</td><td>938</td></tr><tr><td>time/time_elapsed</td><td>5073</td></tr><tr><td>time/total_timesteps</td><td>60032</td></tr><tr><td>train/approx_kl</td><td>0.0</td></tr><tr><td>train/clip_fraction</td><td>0.0</td></tr><tr><td>train/clip_range</td><td>0.2</td></tr><tr><td>train/entropy_loss</td><td>-1e-05</td></tr><tr><td>train/explained_variance</td><td>0.978</td></tr><tr><td>train/learning_rate</td><td>0.0003</td></tr><tr><td>train/loss</td><td>0.85011</td></tr><tr><td>train/n_updates</td><td>9370</td></tr><tr><td>train/policy_gradient_loss</td><td>0.0</td></tr><tr><td>train/value_loss</td><td>1.75414</td></tr></table><br/></div></div>"
      ],
      "text/plain": [
       "<IPython.core.display.HTML object>"
      ]
     },
     "metadata": {},
     "output_type": "display_data"
    },
    {
     "data": {
      "text/html": [
       " View run <strong style=\"color:#cdcd00\">2023-05-29 06:12:19</strong> at: <a href='https://wandb.ai/shawnhymel/flappy-bird/runs/izqb7hw2' target=\"_blank\">https://wandb.ai/shawnhymel/flappy-bird/runs/izqb7hw2</a><br/>Synced 5 W&B file(s), 0 media file(s), 0 artifact file(s) and 0 other file(s)"
      ],
      "text/plain": [
       "<IPython.core.display.HTML object>"
      ]
     },
     "metadata": {},
     "output_type": "display_data"
    },
    {
     "data": {
      "text/html": [
       "Find logs at: <code>.\\wandb\\run-20230529_001219-izqb7hw2\\logs</code>"
      ],
      "text/plain": [
       "<IPython.core.display.HTML object>"
      ]
     },
     "metadata": {},
     "output_type": "display_data"
    }
   ],
   "source": [
    "# Exit environment and close W&B run\n",
    "env.close()\n",
    "run.finish()"
   ]
  },
  {
   "cell_type": "code",
   "execution_count": 375,
   "id": "5293250e-7706-432e-8243-a057a787a145",
   "metadata": {},
   "outputs": [],
   "source": [
    "# Save final model\n",
    "model.save(hparams[\"model_name\"])"
   ]
  },
  {
   "cell_type": "markdown",
   "id": "aeb5f006-e7b7-4858-af31-392f11e5d96b",
   "metadata": {},
   "source": [
    "## Test model"
   ]
  },
  {
   "cell_type": "code",
   "execution_count": 376,
   "id": "840b561e-0d4e-4493-a88a-07938d51031b",
   "metadata": {},
   "outputs": [],
   "source": [
    "# Create our environment with a timeout for training\n",
    "try:\n",
    "    env.close()\n",
    "except NameError:\n",
    "    pass\n",
    "env = WebGame(\n",
    "    score_multiplier=hparams[\"score_multiplier\"],\n",
    "    crash_reward=hparams[\"crash_reward\"],\n",
    "    fps_limit=hparams[\"fps_limit\"],\n",
    "    display_scale=5.0\n",
    ")"
   ]
  },
  {
   "cell_type": "code",
   "execution_count": 377,
   "id": "93c72169-bb26-4672-b554-a3fa3f50d5b2",
   "metadata": {},
   "outputs": [
    {
     "name": "stdout",
     "output_type": "stream",
     "text": [
      "== CURRENT SYSTEM INFO ==\n",
      "- OS: Windows-10-10.0.22621-SP0 10.0.22621\n",
      "- Python: 3.10.10\n",
      "- Stable-Baselines3: 2.0.0a1\n",
      "- PyTorch: 2.0.0\n",
      "- GPU Enabled: True\n",
      "- Numpy: 1.23.5\n",
      "- Gym: 0.28.1\n",
      "\n",
      "== SAVED MODEL SYSTEM INFO ==\n",
      "- OS: Windows-10-10.0.22621-SP0 10.0.22621\n",
      "- Python: 3.10.10\n",
      "- Stable-Baselines3: 2.0.0a1\n",
      "- PyTorch: 2.0.0\n",
      "- GPU Enabled: True\n",
      "- Numpy: 1.23.5\n",
      "- Gym: 0.28.1\n",
      "\n"
     ]
    }
   ],
   "source": [
    "# Load model (use final model or any checkpoint)\n",
    "model = PPO.load(\n",
    "    os.path.join(\".\", hparams[\"model_name\"]), \n",
    "    env=env, \n",
    "    print_system_info=True\n",
    ")"
   ]
  },
  {
   "cell_type": "code",
   "execution_count": 378,
   "id": "d2754246-bd30-43a8-ba61-06d924463501",
   "metadata": {},
   "outputs": [
    {
     "name": "stdout",
     "output_type": "stream",
     "text": [
      "Episode 0 | Steps: 25, Total reward: -97.6\n",
      "Episode 1 | Steps: 360, Total reward: -64.09999999999977\n",
      "Episode 2 | Steps: 25, Total reward: -97.6\n"
     ]
    }
   ],
   "source": [
    "# Play game\n",
    "for ep in range(3):\n",
    "    \n",
    "    # Reset game\n",
    "    obs, info = env.reset()\n",
    "    terminated = False\n",
    "    truncated = False\n",
    "    total_reward = 0\n",
    "    step_count = 0\n",
    "    \n",
    "    # Perform actions based on observation and accumulate reward\n",
    "    while not terminated and not truncated:\n",
    "        action, _ = model.predict(obs)\n",
    "        obs, reward, terminated, truncated, info = env.step(int(action))\n",
    "        total_reward += reward\n",
    "        step_count += 1\n",
    "        \n",
    "    # Print total reward at the end of the episode\n",
    "    print(f\"Episode {ep} | Steps: {step_count}, Total reward: {total_reward}\")"
   ]
  },
  {
   "cell_type": "code",
   "execution_count": null,
   "id": "bb22f6ac-0363-4624-9c2c-2fc8266c505b",
   "metadata": {},
   "outputs": [],
   "source": [
    "# Close the environment\n",
    "env.close()"
   ]
  },
  {
   "cell_type": "markdown",
   "id": "623ab5f3-37db-42d1-9bb9-70ca5c5b841c",
   "metadata": {},
   "source": [
    "## NOTE TO SELF: Use time as +reward"
   ]
  }
 ],
 "metadata": {
  "kernelspec": {
   "display_name": "Python 3 (ipykernel)",
   "language": "python",
   "name": "python3"
  },
  "language_info": {
   "codemirror_mode": {
    "name": "ipython",
    "version": 3
   },
   "file_extension": ".py",
   "mimetype": "text/x-python",
   "name": "python",
   "nbconvert_exporter": "python",
   "pygments_lexer": "ipython3",
   "version": "3.10.10"
  }
 },
 "nbformat": 4,
 "nbformat_minor": 5
}
